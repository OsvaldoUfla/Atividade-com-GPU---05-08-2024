{
  "nbformat": 4,
  "nbformat_minor": 0,
  "metadata": {
    "colab": {
      "provenance": [],
      "gpuType": "T4",
      "authorship_tag": "ABX9TyOMCPwvuEm2KxdjiO7VFbti",
      "include_colab_link": true
    },
    "kernelspec": {
      "name": "python3",
      "display_name": "Python 3"
    },
    "language_info": {
      "name": "python"
    },
    "accelerator": "GPU"
  },
  "cells": [
    {
      "cell_type": "markdown",
      "metadata": {
        "id": "view-in-github",
        "colab_type": "text"
      },
      "source": [
        "<a href=\"https://colab.research.google.com/github/OsvaldoUfla/Atividade-com-GPU---05-08-2024/blob/main/Atividade_com_GPU_05_08_2024.ipynb\" target=\"_parent\"><img src=\"https://colab.research.google.com/assets/colab-badge.svg\" alt=\"Open In Colab\"/></a>"
      ]
    },
    {
      "cell_type": "code",
      "execution_count": 1,
      "metadata": {
        "id": "GFOvgQhKeg10"
      },
      "outputs": [],
      "source": [
        "!pip install git+https://github.com/lesc-ufv/cad4u.git &> /dev/null\n",
        "!git clone https://github.com/lesc-ufv/cad4u &> /dev/null\n",
        "%load_ext plugin"
      ]
    },
    {
      "cell_type": "code",
      "source": [
        "%%writefile hellocuda.cu\n",
        "\n",
        "#include <stdio.h>\n",
        "\n",
        "__global__ void helloFromGPU()\n",
        "{\n",
        "    printf(\"Hello World from GPU! Block %d  Thread %d\\n\", blockIdx.x, threadIdx.x);\n",
        "}\n",
        "\n",
        "int main(int argc, char **argv)\n",
        "{\n",
        "    printf(\"Hello World from CPU!\\n\");\n",
        "\n",
        "    helloFromGPU<<<1, 10>>>();\n",
        "    cudaDeviceReset();\n",
        "\n",
        "    cudaDeviceSynchronize();\n",
        "\n",
        "    return 0;\n",
        "}\n"
      ],
      "metadata": {
        "colab": {
          "base_uri": "https://localhost:8080/"
        },
        "id": "Rb3RYWUEe5TA",
        "outputId": "73cd3cbd-e925-495e-b9a0-fec9eec15d9d"
      },
      "execution_count": 13,
      "outputs": [
        {
          "output_type": "stream",
          "name": "stdout",
          "text": [
            "Overwriting hellocuda.cu\n"
          ]
        }
      ]
    },
    {
      "cell_type": "code",
      "source": [
        "!nvcc hellocuda.cu -o hellocuda\n",
        "!./hellocuda"
      ],
      "metadata": {
        "colab": {
          "base_uri": "https://localhost:8080/"
        },
        "id": "7x3xckDOfNMk",
        "outputId": "a257007f-d521-4103-d116-1618b38c7c96"
      },
      "execution_count": 14,
      "outputs": [
        {
          "output_type": "stream",
          "name": "stdout",
          "text": [
            "Hello World from CPU!\n",
            "Hello World from GPU! Block 0  Thread 0\n",
            "Hello World from GPU! Block 0  Thread 1\n",
            "Hello World from GPU! Block 0  Thread 2\n",
            "Hello World from GPU! Block 0  Thread 3\n",
            "Hello World from GPU! Block 0  Thread 4\n",
            "Hello World from GPU! Block 0  Thread 5\n",
            "Hello World from GPU! Block 0  Thread 6\n",
            "Hello World from GPU! Block 0  Thread 7\n",
            "Hello World from GPU! Block 0  Thread 8\n",
            "Hello World from GPU! Block 0  Thread 9\n"
          ]
        }
      ]
    },
    {
      "cell_type": "markdown",
      "source": [
        "Atividade de soma de matrizes"
      ],
      "metadata": {
        "id": "gPHr0Va2fdtG"
      }
    },
    {
      "cell_type": "code",
      "source": [
        "%%gpu\n",
        "#include <stdio.h>\n",
        "#include <assert.h>\n",
        "\n",
        "#define N 4\n",
        "\n",
        "__global__ void additionMatricesKernel(int *d_a, int *d_b, int *d_c){\n",
        "  //Define os índices das threads\n",
        "  int i = threadIdx.y+blockIdx.y*blockDim.y;\n",
        "  int j = threadIdx.x+blockIdx.x*blockDim.x;\n",
        "  //Realiza a soma de cada elemento\n",
        "  d_c[i*N+j] = d_a[i*N+j] + d_b[i*N+j];\n",
        "}\n",
        "\n",
        "int main(){\n",
        "  //Define as matrizes quadradas NxN\n",
        "    int h_a[N][N], h_b[N][N], h_c[N][N];\n",
        "\n",
        "  //Preenche as matrizes\n",
        "    for(int i = 0; i < N; i++){\n",
        "        for(int j = 0; j < N; j++){\n",
        "            h_a[i][j] = h_b[i][j] = i+j;\n",
        "            h_c[i][j] = 0;\n",
        "        }\n",
        "    }\n",
        "\n",
        "    //Declara os ponteiros para a GPU\n",
        "    int *d_a, *d_b, *d_c;\n",
        "\n",
        "    const int nBytes = N * N * sizeof(int);\n",
        "\n",
        "  //Aloca memória na GPU\n",
        "    cudaMalloc((void**)&d_a,nBytes);\n",
        "    cudaMalloc((void**)&d_b,nBytes);\n",
        "    cudaMalloc((void**)&d_c,nBytes);\n",
        "\n",
        "  //Copia dados da CPU para a GPU\n",
        "    cudaMemcpy(d_a, h_a, nBytes, cudaMemcpyHostToDevice);\n",
        "    cudaMemcpy(d_b, h_b, nBytes, cudaMemcpyHostToDevice);\n",
        "    cudaMemcpy(d_c, h_c, nBytes, cudaMemcpyHostToDevice);\n",
        "\n",
        "  //Declaração do tamanho do grid e tamanho dos blocos\n",
        "    dim3 blockSize(2,2);\n",
        "    dim3 gridSize(N/2,N/2);\n",
        "\n",
        "    //Executa o kernel\n",
        "    additionMatricesKernel<<<gridSize,blockSize>>>(d_a, d_b, d_c);\n",
        "\n",
        "  //Copia os dados de volta para a CPU\n",
        "    (cudaMemcpy(h_c, d_c, nBytes, cudaMemcpyDeviceToHost));\n",
        "\n",
        "  //Testa se a soma foi executada corretamente\n",
        "    for(int i=0; i < N; i++){\n",
        "        for(int j=0; j < N; j++){\n",
        "            assert(h_a[i][j] + h_b[i][j] == h_c[i][j]);\n",
        "        }\n",
        "    }\n",
        "  printf(\"\\nSOMA EXECUTADA COM SUCESSO!\\n\\n\");\n",
        "\n",
        "  //Desaloca memória\n",
        "    cudaFree(d_a);\n",
        "    cudaFree(d_b);\n",
        "    cudaFree(d_c);\n",
        "}"
      ],
      "metadata": {
        "colab": {
          "base_uri": "https://localhost:8080/"
        },
        "id": "S-dqllhwgFIz",
        "outputId": "edfc6275-2744-4f6e-cb74-f9b782738323"
      },
      "execution_count": 15,
      "outputs": [
        {
          "output_type": "stream",
          "name": "stdout",
          "text": [
            "\n",
            "SOMA EXECUTADA COM SUCESSO!\n",
            "\n",
            "\n"
          ]
        }
      ]
    },
    {
      "cell_type": "code",
      "source": [
        "%%nvprof\n",
        "#include <stdio.h>\n",
        "#include <assert.h>\n",
        "\n",
        "#define N 16\n",
        "\n",
        "__global__ void additionMatricesKernel(int *d_a, int *d_b, int *d_c){\n",
        "  //Define os índices das threads\n",
        "  int i = threadIdx.y+blockIdx.y*blockDim.y;\n",
        "  int j = threadIdx.x+blockIdx.x*blockDim.x;\n",
        "  //Realiza a soma de cada elemento\n",
        "  d_c[i*N+j] = d_a[i*N+j] + d_b[i*N+j];\n",
        "}\n",
        "\n",
        "int main(){\n",
        "  //Define as matrizes quadradas NxN\n",
        "    int h_a[N][N], h_b[N][N], h_c[N][N];\n",
        "\n",
        "  //Preenche as matrizes\n",
        "    for(int i = 0; i < N; i++){\n",
        "        for(int j = 0; j < N; j++){\n",
        "            h_a[i][j] = h_b[i][j] = i+j;\n",
        "            h_c[i][j] = 0;\n",
        "        }\n",
        "    }\n",
        "\n",
        "    //Declara os ponteiros para a GPU\n",
        "    int *d_a, *d_b, *d_c;\n",
        "\n",
        "    const int nBytes = N * N * sizeof(int);\n",
        "\n",
        "  //Aloca memória na GPU\n",
        "    cudaMalloc((void**)&d_a,nBytes);\n",
        "    cudaMalloc((void**)&d_b,nBytes);\n",
        "    cudaMalloc((void**)&d_c,nBytes);\n",
        "\n",
        "  //Copia dados da CPU para a GPU\n",
        "    cudaMemcpy(d_a, h_a, nBytes, cudaMemcpyHostToDevice);\n",
        "    cudaMemcpy(d_b, h_b, nBytes, cudaMemcpyHostToDevice);\n",
        "    cudaMemcpy(d_c, h_c, nBytes, cudaMemcpyHostToDevice);\n",
        "\n",
        "  //Declaração do tamanho do grid e tamanho dos blocos\n",
        "    dim3 blockSize(2,2);\n",
        "    dim3 gridSize(N/2,N/2);\n",
        "\n",
        "    //Executa o kernel\n",
        "    additionMatricesKernel<<<gridSize,blockSize>>>(d_a, d_b, d_c);\n",
        "\n",
        "  //Copia os dados de volta para a CPU\n",
        "    (cudaMemcpy(h_c, d_c, nBytes, cudaMemcpyDeviceToHost));\n",
        "\n",
        "  //Testa se a soma foi executada corretamente\n",
        "    for(int i=0; i < N; i++){\n",
        "        for(int j=0; j < N; j++){\n",
        "            assert(h_a[i][j] + h_b[i][j] == h_c[i][j]);\n",
        "        }\n",
        "    }\n",
        "  printf(\"\\nSOMA EXECUTADA COM SUCESSO!\\n\\n\");\n",
        "\n",
        "  //Desaloca memória\n",
        "    cudaFree(d_a);\n",
        "    cudaFree(d_b);\n",
        "    cudaFree(d_c);\n",
        "}"
      ],
      "metadata": {
        "colab": {
          "base_uri": "https://localhost:8080/"
        },
        "id": "SOBzmHBnkHJp",
        "outputId": "29feb8e0-e12b-4247-e210-42c09d232753"
      },
      "execution_count": 18,
      "outputs": [
        {
          "output_type": "stream",
          "name": "stdout",
          "text": [
            "==11962== NVPROF is profiling process 11962, command: /content/code.out\n",
            "\n",
            "SOMA EXECUTADA COM SUCESSO!\n",
            "\n",
            "==11962== Profiling application: /content/code.out\n",
            "==11962== Profiling result:\n",
            "            Type  Time(%)      Time     Calls       Avg       Min       Max  Name\n",
            " GPU activities:   40.31%  3.3280us         1  3.3280us  3.3280us  3.3280us  additionMatricesKernel(int*, int*, int*)\n",
            "                   32.57%  2.6890us         3     896ns     736ns  1.1840us  [CUDA memcpy HtoD]\n",
            "                   27.12%  2.2390us         1  2.2390us  2.2390us  2.2390us  [CUDA memcpy DtoH]\n",
            "      API calls:   83.51%  188.02ms         3  62.672ms  3.3260us  188.01ms  cudaMalloc\n",
            "                   16.32%  36.751ms         1  36.751ms  36.751ms  36.751ms  cudaLaunchKernel\n",
            "                    0.07%  160.79us       114  1.4100us     149ns  59.684us  cuDeviceGetAttribute\n",
            "                    0.05%  115.74us         3  38.579us  2.6910us  106.01us  cudaFree\n",
            "                    0.03%  62.588us         4  15.647us  7.8390us  26.179us  cudaMemcpy\n",
            "                    0.01%  29.339us         1  29.339us  29.339us  29.339us  cuDeviceGetName\n",
            "                    0.00%  8.1840us         1  8.1840us  8.1840us  8.1840us  cuDeviceGetPCIBusId\n",
            "                    0.00%  4.9510us         1  4.9510us  4.9510us  4.9510us  cuDeviceTotalMem\n",
            "                    0.00%  1.5560us         3     518ns     202ns     946ns  cuDeviceGetCount\n",
            "                    0.00%  1.1180us         2     559ns     273ns     845ns  cuDeviceGet\n",
            "                    0.00%     503ns         1     503ns     503ns     503ns  cuModuleGetLoadingMode\n",
            "                    0.00%     246ns         1     246ns     246ns     246ns  cuDeviceGetUuid\n",
            "\n"
          ]
        }
      ]
    },
    {
      "cell_type": "code",
      "source": [
        "%%gpu\n",
        "#include <cuda_runtime.h>\n",
        "#include <stdlib.h>\n",
        "#include <stdio.h>\n",
        "#include <assert.h>\n",
        "__shared__ int k;\n",
        "__global__ void crivo_array(int *a)\n",
        "\n",
        "{\n",
        "\n",
        "\tint idx = blockIdx.x*blockDim.x+threadIdx.x; // parassar entre as threads e blocls de threads\n",
        "\ta[idx]= idx;\n",
        "\tk=2;\n",
        "\n",
        "\n",
        "\twhile(k*2<=idx){\n",
        "\n",
        "\t\tif (((a[idx] % k) == (0))&&(a[idx] > 0)&&(a[idx] != k)){ //verifico se é multipo de k\n",
        "\t\t\ta[idx] = a[idx] * -1; //marco o elemento na lista\n",
        "\t\t}\n",
        "\n",
        "\t\tk++;\n",
        "\n",
        "\t\twhile(a[k]<0){\n",
        "\t\t\tk++;\n",
        "\t\t}\n",
        "\n",
        "\t}\n",
        "\n",
        "}\n",
        "\n",
        "\n",
        "\n",
        " int main(void)\n",
        "{\n",
        "\n",
        "\tint *a_h, *a_d, threads, blocks;\n",
        "\n",
        "\tconst int N=1000; //Numero de elementos da lista\n",
        "\n",
        "\n",
        "\t//Determino o numero de threads e blocks de threads usados\n",
        "\tif (N < 256)\n",
        "\t{\n",
        "\t\tthreads = N;\n",
        "\t\tblocks = 1;\n",
        "\t}\n",
        "\telse\n",
        "\t{\n",
        "\t\tthreads = 256;\n",
        "\t\tif ((N % threads) == 0)\n",
        "\t\t\tblocks = N/threads;\n",
        "\t\telse\n",
        "\t\t\tblocks = (N/threads) + 1;\n",
        "\t}\n",
        "\t//Fim do determincao\n",
        "\n",
        "\tsize_t size = N*sizeof(int); //determinando o tamanho do vetor de inteiros\n",
        "\n",
        "\ta_h=(int*)malloc(size); //alocando espaço na memoria da CPU\n",
        "\n",
        "\tcudaMalloc((void**)&a_d,size); //alocando espaço na memoria da GPU\n",
        "\n",
        "\tunsigned int timer = 0;\n",
        "\n",
        "\t//faz crivo\n",
        "\tcudaMemcpy(a_d,a_h,size,cudaMemcpyHostToDevice);\n",
        "\tcrivo_array<<<blocks,threads>>>(a_d);\n",
        "\tcudaMemcpy(a_h,a_d,size,cudaMemcpyDeviceToHost);\n",
        "\t//fim do crivo\n",
        "\n",
        "\tprintf(\"São primos os numeros entre 2 e %d\\n\", N);\n",
        "/*\tfor(int i=2; i<N; i++)\n",
        "\t\tif (a_h[i] > 0)\n",
        "\t\t\tprintf(\"%d\\n\",a_h[i]); //imprimo somente os numeros não marcados (primos)\n",
        "*/\n",
        "\n",
        "\tfree(a_h); // Liberando memoria da CPU\n",
        "\tcudaFree(a_d); // Liberando memoria da GPU\n",
        "\treturn 0;\n",
        "}"
      ],
      "metadata": {
        "colab": {
          "base_uri": "https://localhost:8080/"
        },
        "id": "IpeLQyIcmhQT",
        "outputId": "baa8e472-7596-4a67-c8ae-27ab09ca93cc"
      },
      "execution_count": 20,
      "outputs": [
        {
          "output_type": "stream",
          "name": "stdout",
          "text": [
            "São primos os numeros entre 2 e 1000\n",
            "\n"
          ]
        }
      ]
    },
    {
      "cell_type": "code",
      "source": [
        "%%nvprof\n",
        "#include <cuda_runtime.h>\n",
        "#include <stdlib.h>\n",
        "#include <stdio.h>\n",
        "#include <assert.h>\n",
        "__shared__ int k;\n",
        "__global__ void crivo_array(int *a)\n",
        "\n",
        "{\n",
        "\n",
        "\tint idx = blockIdx.x*blockDim.x+threadIdx.x; // parassar entre as threads e blocls de threads\n",
        "\ta[idx]= idx;\n",
        "\tk=2;\n",
        "\n",
        "\n",
        "\twhile(k*2<=idx){\n",
        "\n",
        "\t\tif (((a[idx] % k) == (0))&&(a[idx] > 0)&&(a[idx] != k)){ //verifico se é multipo de k\n",
        "\t\t\ta[idx] = a[idx] * -1; //marco o elemento na lista\n",
        "\t\t}\n",
        "\n",
        "\t\tk++;\n",
        "\n",
        "\t\twhile(a[k]<0){\n",
        "\t\t\tk++;\n",
        "\t\t}\n",
        "\n",
        "\t}\n",
        "\n",
        "}\n",
        "\n",
        "\n",
        "\n",
        " int main(void)\n",
        "{\n",
        "\n",
        "\tint *a_h, *a_d, threads, blocks;\n",
        "\n",
        "\tconst int N=1000; //Numero de elementos da lista\n",
        "\n",
        "\n",
        "\t//Determino o numero de threads e blocks de threads usados\n",
        "\tif (N < 256)\n",
        "\t{\n",
        "\t\tthreads = N;\n",
        "\t\tblocks = 1;\n",
        "\t}\n",
        "\telse\n",
        "\t{\n",
        "\t\tthreads = 256;\n",
        "\t\tif ((N % threads) == 0)\n",
        "\t\t\tblocks = N/threads;\n",
        "\t\telse\n",
        "\t\t\tblocks = (N/threads) + 1;\n",
        "\t}\n",
        "\t//Fim do determincao\n",
        "\n",
        "\tsize_t size = N*sizeof(int); //determinando o tamanho do vetor de inteiros\n",
        "\n",
        "\ta_h=(int*)malloc(size); //alocando espaço na memoria da CPU\n",
        "\n",
        "\tcudaMalloc((void**)&a_d,size); //alocando espaço na memoria da GPU\n",
        "\n",
        "\tunsigned int timer = 0;\n",
        "\n",
        "\t//faz crivo\n",
        "\tcudaMemcpy(a_d,a_h,size,cudaMemcpyHostToDevice);\n",
        "\tcrivo_array<<<blocks,threads>>>(a_d);\n",
        "\tcudaMemcpy(a_h,a_d,size,cudaMemcpyDeviceToHost);\n",
        "\t//fim do crivo\n",
        "\n",
        "\tprintf(\"São primos os numeros entre 2 e %d\\n\", N);\n",
        "/*\tfor(int i=2; i<N; i++)\n",
        "\t\tif (a_h[i] > 0)\n",
        "\t\t\tprintf(\"%d\\n\",a_h[i]); //imprimo somente os numeros não marcados (primos)\n",
        "*/\n",
        "\n",
        "\tfree(a_h); // Liberando memoria da CPU\n",
        "\tcudaFree(a_d); // Liberando memoria da GPU\n",
        "\treturn 0;\n",
        "}"
      ],
      "metadata": {
        "colab": {
          "base_uri": "https://localhost:8080/"
        },
        "id": "JjSpXTyNmpW8",
        "outputId": "8af0cf3f-d4f3-4e13-f57c-a8780b7f2784"
      },
      "execution_count": 21,
      "outputs": [
        {
          "output_type": "stream",
          "name": "stdout",
          "text": [
            "==12738== NVPROF is profiling process 12738, command: /content/code.out\n",
            "São primos os numeros entre 2 e 1000\n",
            "==12738== Profiling application: /content/code.out\n",
            "==12738== Profiling result:\n",
            "            Type  Time(%)      Time     Calls       Avg       Min       Max  Name\n",
            " GPU activities:   96.66%  115.77us         1  115.77us  115.77us  115.77us  crivo_array(int*)\n",
            "                    2.16%  2.5920us         1  2.5920us  2.5920us  2.5920us  [CUDA memcpy DtoH]\n",
            "                    1.18%  1.4080us         1  1.4080us  1.4080us  1.4080us  [CUDA memcpy HtoD]\n",
            "      API calls:   99.63%  192.76ms         1  192.76ms  192.76ms  192.76ms  cudaMalloc\n",
            "                    0.11%  203.50us         2  101.75us  71.840us  131.66us  cudaMemcpy\n",
            "                    0.10%  202.01us         1  202.01us  202.01us  202.01us  cudaLaunchKernel\n",
            "                    0.08%  152.36us       114  1.3360us     142ns  56.324us  cuDeviceGetAttribute\n",
            "                    0.07%  128.04us         1  128.04us  128.04us  128.04us  cudaFree\n",
            "                    0.01%  12.652us         1  12.652us  12.652us  12.652us  cuDeviceGetName\n",
            "                    0.00%  5.2980us         1  5.2980us  5.2980us  5.2980us  cuDeviceGetPCIBusId\n",
            "                    0.00%  4.6620us         1  4.6620us  4.6620us  4.6620us  cuDeviceTotalMem\n",
            "                    0.00%  1.6540us         3     551ns     207ns  1.1410us  cuDeviceGetCount\n",
            "                    0.00%  1.1520us         2     576ns     198ns     954ns  cuDeviceGet\n",
            "                    0.00%     701ns         1     701ns     701ns     701ns  cuModuleGetLoadingMode\n",
            "                    0.00%     245ns         1     245ns     245ns     245ns  cuDeviceGetUuid\n",
            "\n"
          ]
        }
      ]
    }
  ]
}